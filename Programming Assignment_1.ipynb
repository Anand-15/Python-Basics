{
 "cells": [
  {
   "cell_type": "code",
   "execution_count": 1,
   "id": "ffa0bbd4",
   "metadata": {},
   "outputs": [
    {
     "name": "stdout",
     "output_type": "stream",
     "text": [
      "Hello Python\n"
     ]
    }
   ],
   "source": [
    "#1.\tWrite a Python program to print \"Hello Python\"?\n",
    "print(\"Hello Python\")"
   ]
  },
  {
   "cell_type": "code",
   "execution_count": 2,
   "id": "b8f9737e",
   "metadata": {},
   "outputs": [
    {
     "name": "stdout",
     "output_type": "stream",
     "text": [
      "Addition is :  15\n",
      "Division is :  2.0\n"
     ]
    }
   ],
   "source": [
    "#2.\tWrite a Python program to do arithmetical operations addition and division.?\n",
    "a,b=10,5\n",
    "print(\"Addition is : \",a+b)\n",
    "print(\"Division is : \",a/b)"
   ]
  },
  {
   "cell_type": "code",
   "execution_count": 3,
   "id": "aa4b080b",
   "metadata": {},
   "outputs": [
    {
     "name": "stdout",
     "output_type": "stream",
     "text": [
      "Please enter the base length in cm : 5\n",
      "Please enter the height length in cm : 10\n",
      "Area of triangle is 25.0 square cm\n"
     ]
    }
   ],
   "source": [
    "#3.\tWrite a Python program to find the area of a triangle?\n",
    "base=int(input(\"Please enter the base length in cm : \"))\n",
    "height=int(input(\"Please enter the height length in cm : \"))\n",
    "print(f\"Area of triangle is {0.5*base*height} square cm\")"
   ]
  },
  {
   "cell_type": "code",
   "execution_count": 4,
   "id": "d9057773",
   "metadata": {},
   "outputs": [
    {
     "name": "stdout",
     "output_type": "stream",
     "text": [
      "After swapping a=5 and b=10\n"
     ]
    }
   ],
   "source": [
    "#4.\tWrite a Python program to swap two variables?\n",
    "a,b=10,5\n",
    "c=a\n",
    "a=b\n",
    "b=c\n",
    "print(f\"After swapping a={a} and b={b}\")"
   ]
  },
  {
   "cell_type": "code",
   "execution_count": 10,
   "id": "0cc12e26",
   "metadata": {},
   "outputs": [
    {
     "name": "stdout",
     "output_type": "stream",
     "text": [
      "9\n"
     ]
    }
   ],
   "source": [
    "#5.\tWrite a Python program to generate a random number?\n",
    "import random\n",
    "print(random.randint(5,10))"
   ]
  }
 ],
 "metadata": {
  "kernelspec": {
   "display_name": "Python 3 (ipykernel)",
   "language": "python",
   "name": "python3"
  },
  "language_info": {
   "codemirror_mode": {
    "name": "ipython",
    "version": 3
   },
   "file_extension": ".py",
   "mimetype": "text/x-python",
   "name": "python",
   "nbconvert_exporter": "python",
   "pygments_lexer": "ipython3",
   "version": "3.9.13"
  }
 },
 "nbformat": 4,
 "nbformat_minor": 5
}
