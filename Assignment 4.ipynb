{
 "cells": [
  {
   "cell_type": "raw",
   "id": "7c3e07f0",
   "metadata": {},
   "source": [
    "1. What exactly is []?\n",
    "Ans. It is an empty list."
   ]
  },
  {
   "cell_type": "code",
   "execution_count": 1,
   "id": "5ca0ca2e",
   "metadata": {},
   "outputs": [
    {
     "data": {
      "text/plain": [
       "list"
      ]
     },
     "execution_count": 1,
     "metadata": {},
     "output_type": "execute_result"
    }
   ],
   "source": [
    "#solution for 1st question\n",
    "a=[]\n",
    "type(a)"
   ]
  },
  {
   "cell_type": "raw",
   "id": "b7ffc7c0",
   "metadata": {},
   "source": [
    "2. In a list of values stored in a variable called spam, how would you assign the value 'hello' as the third value? (Assume [2, 4, 6, 8, 10] are in spam.)\n",
    "Ans. Solution will be given in below cell."
   ]
  },
  {
   "cell_type": "code",
   "execution_count": 2,
   "id": "dbb47e97",
   "metadata": {},
   "outputs": [
    {
     "data": {
      "text/plain": [
       "[2, 4, 'hello', 8, 10]"
      ]
     },
     "execution_count": 2,
     "metadata": {},
     "output_type": "execute_result"
    }
   ],
   "source": [
    "#solution for 2nd question\n",
    "spam=[2,4,6,8,10]\n",
    "spam[2]=\"hello\"\n",
    "spam"
   ]
  },
  {
   "cell_type": "raw",
   "id": "09cd2c5a",
   "metadata": {},
   "source": [
    "Let's pretend the spam includes the list ['a', 'b', 'c', 'd'] for the next three queries.\n",
    "3. What is the value of spam[int(int('3' * 2) / 11)]?\n",
    "4. What is the value of spam[-1]?\n",
    "5. What is the value of spam[:2]?\n",
    "Ans. Solution will be given in below cells.\n"
   ]
  },
  {
   "cell_type": "code",
   "execution_count": 3,
   "id": "25abbb81",
   "metadata": {},
   "outputs": [
    {
     "data": {
      "text/plain": [
       "'d'"
      ]
     },
     "execution_count": 3,
     "metadata": {},
     "output_type": "execute_result"
    }
   ],
   "source": [
    "#Solution for 3rd question\n",
    "spam=['a','b','c','d']\n",
    "spam[int(int('3'*2)/11)]"
   ]
  },
  {
   "cell_type": "code",
   "execution_count": 4,
   "id": "9e8d839e",
   "metadata": {},
   "outputs": [
    {
     "data": {
      "text/plain": [
       "'d'"
      ]
     },
     "execution_count": 4,
     "metadata": {},
     "output_type": "execute_result"
    }
   ],
   "source": [
    "#Solution for 4th question\n",
    "spam[-1]"
   ]
  },
  {
   "cell_type": "code",
   "execution_count": 5,
   "id": "0caa5b21",
   "metadata": {},
   "outputs": [
    {
     "data": {
      "text/plain": [
       "['a', 'b']"
      ]
     },
     "execution_count": 5,
     "metadata": {},
     "output_type": "execute_result"
    }
   ],
   "source": [
    "#Solution for question 5\n",
    "spam[:2]"
   ]
  },
  {
   "cell_type": "raw",
   "id": "94e26a66",
   "metadata": {},
   "source": [
    "Let's pretend bacon has the list [3.14, 'cat,' 11, 'cat,' True] for the next three questions.\n",
    "6. What is the value of bacon.index('cat')?\n",
    "7. How does bacon.append(99) change the look of the list value in bacon?\n",
    "8. How does bacon.remove('cat') change the look of the list in bacon?\n",
    "Ans. Solution will be given in below cells"
   ]
  },
  {
   "cell_type": "code",
   "execution_count": 6,
   "id": "f66f6ef7",
   "metadata": {},
   "outputs": [
    {
     "data": {
      "text/plain": [
       "1"
      ]
     },
     "execution_count": 6,
     "metadata": {},
     "output_type": "execute_result"
    }
   ],
   "source": [
    "#Solution for 6th question\n",
    "bacon=[3.14,'cat',11,'cat',True]\n",
    "bacon.index('cat')"
   ]
  },
  {
   "cell_type": "code",
   "execution_count": 7,
   "id": "67bd66ea",
   "metadata": {},
   "outputs": [
    {
     "data": {
      "text/plain": [
       "[3.14, 'cat', 11, 'cat', True, 99]"
      ]
     },
     "execution_count": 7,
     "metadata": {},
     "output_type": "execute_result"
    }
   ],
   "source": [
    "#Solution for 7th question\n",
    "bacon.append(99)\n",
    "bacon\n",
    "#it will append 99 at the end of list."
   ]
  },
  {
   "cell_type": "code",
   "execution_count": 8,
   "id": "54a8b0cd",
   "metadata": {},
   "outputs": [
    {
     "data": {
      "text/plain": [
       "[3.14, 11, 'cat', True, 99]"
      ]
     },
     "execution_count": 8,
     "metadata": {},
     "output_type": "execute_result"
    }
   ],
   "source": [
    "#Solution for 8th question\n",
    "bacon.remove('cat')\n",
    "bacon\n",
    "#it will remove the entry of 'cat' which comes first in the list"
   ]
  },
  {
   "cell_type": "raw",
   "id": "6d974efa",
   "metadata": {},
   "source": [
    "9. What are the list concatenation and list replication operators?\n",
    "Ans.The operator for list concatenation is +, while the operator for replication is *."
   ]
  },
  {
   "cell_type": "raw",
   "id": "0954d07b",
   "metadata": {},
   "source": [
    "10. What is difference between the list methods append() and insert()?\n",
    "Ans.append() adds an item to the end of a list, whereas . insert() inserts and item in a specified position in the list."
   ]
  },
  {
   "cell_type": "raw",
   "id": "234be6a7",
   "metadata": {},
   "source": [
    "11. What are the two methods for removing items from a list?\n",
    "Ans.The methods are remove() and pop(). remove() helps to remove the very first given element matching from the list. The pop() method removes an element from the list based on the index given."
   ]
  },
  {
   "cell_type": "raw",
   "id": "7794c698",
   "metadata": {},
   "source": [
    "12. Describe how list values and string values are identical.\n",
    "Ans.Both strings and lists have lengths: a string's length is the number of characters in the string; a list's length is the number of items in the list. Each character in a string as well as each item in a list has a position, also called an index."
   ]
  },
  {
   "cell_type": "raw",
   "id": "6bcaaf14",
   "metadata": {},
   "source": [
    "13. What's the difference between tuples and lists?\n",
    "Ans.The list is dynamic, whereas the tuple has static characteristics. This means that lists can be modified whereas tuples cannot be modified, the tuple is faster than the list because of static in nature. Lists are denoted by the square brackets but tuples are denoted as parenthesis."
   ]
  },
  {
   "cell_type": "raw",
   "id": "8d56f313",
   "metadata": {},
   "source": [
    "14. How do you type a tuple value that only contains the integer 42?\n",
    "Ans.Solution will be given on below cell."
   ]
  },
  {
   "cell_type": "code",
   "execution_count": 9,
   "id": "a922a509",
   "metadata": {},
   "outputs": [
    {
     "data": {
      "text/plain": [
       "tuple"
      ]
     },
     "execution_count": 9,
     "metadata": {},
     "output_type": "execute_result"
    }
   ],
   "source": [
    "#Solution to 14th question\n",
    "new_tuple=(42,)\n",
    "type(new_tuple)"
   ]
  },
  {
   "cell_type": "raw",
   "id": "1c88149c",
   "metadata": {},
   "source": [
    "15. How do you get a list value's tuple form? How do you get a tuple value's list form?\n",
    "Ans.By using tuple() and list() respectively."
   ]
  },
  {
   "cell_type": "code",
   "execution_count": 10,
   "id": "f738eac4",
   "metadata": {},
   "outputs": [
    {
     "name": "stdout",
     "output_type": "stream",
     "text": [
      "(1, 2, 3, 4, 5)\n",
      "[6, 7, 8, 9, 0]\n"
     ]
    }
   ],
   "source": [
    "#Solution for 15th question\n",
    "list_1=[1,2,3,4,5]\n",
    "tuple_1=(6,7,8,9,0)\n",
    "print(tuple(list_1))\n",
    "print(list(tuple_1))"
   ]
  },
  {
   "cell_type": "raw",
   "id": "044495b7",
   "metadata": {},
   "source": [
    "16. Variables that \"contain\" list values are not necessarily lists themselves. Instead, what do they contain?\n",
    "Ans.Variables will contain references to list values rather than list values themselves.\n"
   ]
  },
  {
   "cell_type": "code",
   "execution_count": 11,
   "id": "9a2db301",
   "metadata": {},
   "outputs": [
    {
     "name": "stdout",
     "output_type": "stream",
     "text": [
      "[1, 5, 7, 6]\n",
      "[1, 5, 7, 6]\n"
     ]
    }
   ],
   "source": [
    "#Solution for 16th question\n",
    "a=[1,5,7]\n",
    "b=[2,5,3]\n",
    "b=a\n",
    "b.append(6)\n",
    "print(b)\n",
    "print(a)\n",
    "\n"
   ]
  },
  {
   "cell_type": "raw",
   "id": "570b4a8c",
   "metadata": {},
   "source": [
    "17. How do you distinguish between copy.copy() and copy.deepcopy()?\n",
    "Ans.Python provides a module named copy that provides both the copy() and deepcopy() functions. The first of these, copy.copy(), can be used to make a duplicate copy of a mutable value like a list or dictionary, not just a copy of a reference.\n",
    "If the list you need to copy contains lists, then use the copy.deepcopy() function instead of copy.copy(). The deepcopy() function will copy these inner lists as well.\n"
   ]
  },
  {
   "cell_type": "code",
   "execution_count": 12,
   "id": "dff792da",
   "metadata": {},
   "outputs": [
    {
     "name": "stdout",
     "output_type": "stream",
     "text": [
      "['A', 'B', 'C', 'D'] ['A', 42, 'C', 'D']\n"
     ]
    }
   ],
   "source": [
    "#Solution for 17th question\n",
    "import copy\n",
    "spam = ['A', 'B', 'C', 'D']\n",
    "cheese = copy.copy(spam)\n",
    "cheese[1] = 42\n",
    "print(spam,cheese)\n",
    "#It will create a separate copy instead of passing the list as reference"
   ]
  },
  {
   "cell_type": "code",
   "execution_count": null,
   "id": "542fbdce",
   "metadata": {},
   "outputs": [],
   "source": []
  }
 ],
 "metadata": {
  "kernelspec": {
   "display_name": "Python 3 (ipykernel)",
   "language": "python",
   "name": "python3"
  },
  "language_info": {
   "codemirror_mode": {
    "name": "ipython",
    "version": 3
   },
   "file_extension": ".py",
   "mimetype": "text/x-python",
   "name": "python",
   "nbconvert_exporter": "python",
   "pygments_lexer": "ipython3",
   "version": "3.9.13"
  }
 },
 "nbformat": 4,
 "nbformat_minor": 5
}
