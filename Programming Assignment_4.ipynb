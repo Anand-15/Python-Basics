{
 "cells": [
  {
   "cell_type": "raw",
   "id": "4322aeb9",
   "metadata": {},
   "source": [
    "\n",
    "\n",
    "\n",
    "\n",
    "\n"
   ]
  },
  {
   "cell_type": "code",
   "execution_count": 4,
   "id": "1ececa0f",
   "metadata": {},
   "outputs": [
    {
     "name": "stdout",
     "output_type": "stream",
     "text": [
      "Please enter number(greater than 0) you want factorial of : 9\n",
      "362880\n"
     ]
    }
   ],
   "source": [
    "#1.\tWrite a Python Program to Find the Factorial of a Number?\n",
    "num=int(input(\"Please enter number(greater than 0) you want factorial of : \"))\n",
    "def factorial(n):\n",
    "    if n==1:\n",
    "        return 1\n",
    "    return factorial(n-1)*n\n",
    "print(factorial(num))"
   ]
  },
  {
   "cell_type": "code",
   "execution_count": 8,
   "id": "df2e071a",
   "metadata": {},
   "outputs": [
    {
     "name": "stdout",
     "output_type": "stream",
     "text": [
      "Enter the number you want multliplication table of : 19\n",
      "19 * 1 = 19\n",
      "19 * 2 = 38\n",
      "19 * 3 = 57\n",
      "19 * 4 = 76\n",
      "19 * 5 = 95\n",
      "19 * 6 = 114\n",
      "19 * 7 = 133\n",
      "19 * 8 = 152\n",
      "19 * 9 = 171\n",
      "19 * 10 = 190\n"
     ]
    }
   ],
   "source": [
    "#2.\tWrite a Python Program to Display the multiplication Table?\n",
    "num=int(input(\"Enter the number you want multliplication table of : \"))\n",
    "def multiplication_table(n):\n",
    "    for i in range(1,11):\n",
    "        print(f\"{n} * {i} = {n*i}\")\n",
    "multiplication_table(num)\n",
    "        "
   ]
  },
  {
   "cell_type": "code",
   "execution_count": 14,
   "id": "b064fc1e",
   "metadata": {},
   "outputs": [
    {
     "name": "stdout",
     "output_type": "stream",
     "text": [
      "Enter number of terms you want in fibonacci sequence :  20\n",
      "0\n",
      "1\n",
      "1\n",
      "2\n",
      "3\n",
      "5\n",
      "8\n",
      "13\n",
      "21\n",
      "34\n",
      "55\n",
      "89\n",
      "144\n",
      "233\n",
      "377\n",
      "610\n",
      "987\n",
      "1597\n",
      "2584\n",
      "4181\n"
     ]
    }
   ],
   "source": [
    "#3.\tWrite a Python Program to Print the Fibonacci sequence?\n",
    "a,b=0,1\n",
    "num=int(input(\"Enter number of terms you want in fibonacci sequence :  \"))\n",
    "print(a)\n",
    "for i in range(num-1):\n",
    "    print(b)\n",
    "    a,b=b,a+b"
   ]
  },
  {
   "cell_type": "code",
   "execution_count": 15,
   "id": "e38764ad",
   "metadata": {},
   "outputs": [
    {
     "name": "stdout",
     "output_type": "stream",
     "text": [
      "Enter a number: 153\n",
      "153 is an Armstrong number\n"
     ]
    }
   ],
   "source": [
    "#4.\tWrite a Python Program to Check Armstrong Number?\n",
    "num = int(input(\"Enter a number: \"))\n",
    "sum = 0\n",
    "temp = num\n",
    "while temp > 0:\n",
    "   digit = temp % 10\n",
    "   sum += digit ** 3\n",
    "   temp //= 10\n",
    "if num == sum:\n",
    "   print(num,\"is an Armstrong number\")\n",
    "else:\n",
    "   print(num,\"is not an Armstrong number\")"
   ]
  },
  {
   "cell_type": "code",
   "execution_count": 16,
   "id": "d4ab2da5",
   "metadata": {},
   "outputs": [
    {
     "name": "stdout",
     "output_type": "stream",
     "text": [
      "153\n",
      "370\n",
      "371\n",
      "407\n",
      "1634\n"
     ]
    }
   ],
   "source": [
    "#5.\tWrite a Python Program to Find Armstrong Number in an Interval?\n",
    "lower = 100\n",
    "upper = 2000\n",
    "\n",
    "for num in range(lower, upper + 1):\n",
    "    order = len(str(num))\n",
    "    sum = 0\n",
    "    temp = num\n",
    "    while temp > 0:\n",
    "        digit = temp % 10\n",
    "        sum += digit ** order\n",
    "        temp //= 10\n",
    "\n",
    "    if num == sum:\n",
    "        print(num)"
   ]
  },
  {
   "cell_type": "code",
   "execution_count": null,
   "id": "4c72591f",
   "metadata": {},
   "outputs": [],
   "source": [
    "#6.\tWrite a Python Program to Find the Sum of Natural Numbers?\n",
    "num=int(input(\"Enter  the number till which you want sum :  \"))\n",
    "sum=0\n",
    "for i in range(1,num+1):\n",
    "    sum+=i\n",
    "print(f\"Sum is {sum}\")"
   ]
  },
  {
   "cell_type": "code",
   "execution_count": null,
   "id": "f96858ad",
   "metadata": {},
   "outputs": [],
   "source": []
  }
 ],
 "metadata": {
  "kernelspec": {
   "display_name": "Python 3 (ipykernel)",
   "language": "python",
   "name": "python3"
  },
  "language_info": {
   "codemirror_mode": {
    "name": "ipython",
    "version": 3
   },
   "file_extension": ".py",
   "mimetype": "text/x-python",
   "name": "python",
   "nbconvert_exporter": "python",
   "pygments_lexer": "ipython3",
   "version": "3.9.13"
  }
 },
 "nbformat": 4,
 "nbformat_minor": 5
}
