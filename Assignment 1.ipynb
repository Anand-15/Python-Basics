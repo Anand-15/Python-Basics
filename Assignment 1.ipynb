{
 "cells": [
  {
   "cell_type": "raw",
   "id": "f69b4102",
   "metadata": {},
   "source": [
    "1. In the below elements which of them are values or an expression? eg:- values can be\n",
    "integer or string and expressions will be mathematical operators.\n",
    "*\n",
    "\"hello\"\n",
    "-87.8\n",
    "-\n",
    "/\n",
    "+\n",
    "6\n",
    "Ans. *,-,/,+ are expressions whereas \"hello\",-87.8,6 are values."
   ]
  },
  {
   "cell_type": "raw",
   "id": "eaa08ada",
   "metadata": {},
   "source": [
    "2. What is the difference between string and variable?\n",
    "Ans. A string is a Numeric datatype whereas variable is symbolic name that is a reference or pointer to an object.\n"
   ]
  },
  {
   "cell_type": "raw",
   "id": "cdf7ee2b",
   "metadata": {},
   "source": [
    "3. Describe three different data types.\n",
    "Ans. The three different data types are as follows:\n",
    "    1.Numeric: In Python, numeric data type represent the data which has numeric value. Numeric value can be integer, floating                number or even complex numbers. These values are defined as int, float and complex class in Python.\n",
    "    2.Sequence type: In Python, sequence is the ordered collection of similar or different data types. Sequences allows to                          store multiple values in an organized and efficient fashion. There are several sequence types in Python \n",
    "                          a)String\n",
    "                          b)List\n",
    "                          c)Tuple\n",
    "    3.Boolean : Data type with one of the two built-in values, True or False. Boolean objects that are equal to True are truthy                 (true), and those equal to False are falsy (false). But non-Boolean objects can be evaluated in Boolean context                 as well and determined to be true or false. It is denoted by the class bool."
   ]
  },
  {
   "cell_type": "raw",
   "id": "37e1fd47",
   "metadata": {},
   "source": [
    "4. What is an expression made up of? What do all expressions do?\n",
    "Ans.Expressions are made up of operators and operands. All expressions evaluate a  a single value."
   ]
  },
  {
   "cell_type": "raw",
   "id": "cc831aa3",
   "metadata": {},
   "source": [
    "5. This assignment statements, like spam = 10. What is the difference between an\n",
    "expression and a statement?\n",
    "Ans.An expression evaluates to a single value. A statement does not.That statement just assigns value 10 to the spam varaible.\n"
   ]
  },
  {
   "cell_type": "raw",
   "id": "47d1bd98",
   "metadata": {},
   "source": [
    "6. After running the following code, what does the variable bacon contain?\n",
    "bacon = 22\n",
    "bacon + 1\n",
    "Ans. bacon contains 22 as variables value hasnt been incremented.\n"
   ]
  },
  {
   "cell_type": "raw",
   "id": "92f0b9fe",
   "metadata": {},
   "source": [
    "7. What should the values of the following two terms be?\n",
    "\"spam\" + \"spamspam\"\n",
    "\"spam\" * 3\n",
    "Ans. Both of them will return the same output \"spamspamspam\"."
   ]
  },
  {
   "cell_type": "raw",
   "id": "72444c53",
   "metadata": {},
   "source": [
    "8. Why is eggs a valid variable name while 100 is invalid?\n",
    "Ans.Variable names cannot begin with numbers ."
   ]
  },
  {
   "cell_type": "raw",
   "id": "dff3f923",
   "metadata": {},
   "source": [
    "9. What three functions can be used to get the integer, floating-point number, or string\n",
    "version of a value?\n",
    "Ans.int(),float(),str() are the functions which can be used to get the integer, floating-point number, or string\n",
    "    version of a value."
   ]
  },
  {
   "cell_type": "raw",
   "id": "618d25bd",
   "metadata": {},
   "source": [
    "10. Why does this expression cause an error? How can you fix it?\n",
    "&#39;I have eaten &#39; + 99 + &#39; burritos.&#39;\n",
    "Ans.Only strings can be concatenated in python, So we can use str(99) to concatenate the strings."
   ]
  },
  {
   "cell_type": "code",
   "execution_count": null,
   "id": "102d939d",
   "metadata": {},
   "outputs": [],
   "source": []
  }
 ],
 "metadata": {
  "kernelspec": {
   "display_name": "Python 3 (ipykernel)",
   "language": "python",
   "name": "python3"
  },
  "language_info": {
   "codemirror_mode": {
    "name": "ipython",
    "version": 3
   },
   "file_extension": ".py",
   "mimetype": "text/x-python",
   "name": "python",
   "nbconvert_exporter": "python",
   "pygments_lexer": "ipython3",
   "version": "3.9.13"
  }
 },
 "nbformat": 4,
 "nbformat_minor": 5
}
