{
 "cells": [
  {
   "cell_type": "raw",
   "id": "02e21569",
   "metadata": {},
   "source": [
    "1. Why are functions advantageous to have in your programs?\n",
    "Ans.Functions reduce the need for duplicate code. This makes programs shorter, easier to read, and easier to update."
   ]
  },
  {
   "cell_type": "raw",
   "id": "5f48b95d",
   "metadata": {},
   "source": [
    "2. When does the code in a function run: when it's specified or when it's called?\n",
    "Ans.Code in a function runs when it is called."
   ]
  },
  {
   "cell_type": "raw",
   "id": "f7f5b5f8",
   "metadata": {},
   "source": [
    "3. What statement creates a function?\n",
    "Ans. The statement \"def function_name()\" is used to create a function."
   ]
  },
  {
   "cell_type": "raw",
   "id": "8e5b8f9b",
   "metadata": {},
   "source": [
    "4. What is the difference between a function and a function call?\n",
    "Ans.A function is a piece of code which enhances the reusability and modularity of your program. It means that piece of code       need not be written again.\n",
    "    A function call means invoking or calling that function. Unless a function is called there is no use of that function."
   ]
  },
  {
   "cell_type": "raw",
   "id": "780fed8d",
   "metadata": {},
   "source": [
    "5. How many global scopes are there in a Python program? How many local scopes?\n",
    "Ans.There is exactly 1 global scope in a python program.There can be as many local scopes in program depending on the number \n",
    "    of functions and nesting of functions. \n",
    "     "
   ]
  },
  {
   "cell_type": "raw",
   "id": "d16ddedd",
   "metadata": {},
   "source": [
    "6. What happens to variables in a local scope when the function call returns?\n",
    "Ans.When function gets terminated,the variables in local scope get destroyed."
   ]
  },
  {
   "cell_type": "raw",
   "id": "3eba40f7",
   "metadata": {},
   "source": [
    "7. What is the concept of a return value? Is it possible to have a return value in an expression?\n",
    "Ans.A return value is used to end the execution of the function call and “returns”\n",
    "    the result (value of the expression following the return keyword) to the caller.\n",
    "    Yes its possible to return value in expression."
   ]
  },
  {
   "cell_type": "code",
   "execution_count": 3,
   "id": "adc1959c",
   "metadata": {},
   "outputs": [
    {
     "name": "stdout",
     "output_type": "stream",
     "text": [
      "True\n"
     ]
    }
   ],
   "source": [
    "#example for 7th question\n",
    "def is_greater_num():\n",
    "    return 7>5\n",
    "print(is_greater_num())"
   ]
  },
  {
   "cell_type": "raw",
   "id": "a2615375",
   "metadata": {},
   "source": [
    "8. If a function does not have a return statement, what is the return value of a call to that function?\n",
    "Ans. The return value is None if function does not has a return statement."
   ]
  },
  {
   "cell_type": "code",
   "execution_count": 6,
   "id": "91448b28",
   "metadata": {},
   "outputs": [
    {
     "name": "stdout",
     "output_type": "stream",
     "text": [
      "None\n"
     ]
    }
   ],
   "source": [
    "#example for 8th question\n",
    "def return_value():\n",
    "    a=5\n",
    "    \n",
    "print(return_value())"
   ]
  },
  {
   "cell_type": "raw",
   "id": "8a1573ad",
   "metadata": {},
   "source": [
    "9. How do you make a function variable refer to the global variable?\n",
    "Ans. You can refer global variable using \"global\" keyword .An example will be given in next cell."
   ]
  },
  {
   "cell_type": "code",
   "execution_count": 13,
   "id": "370fb51c",
   "metadata": {},
   "outputs": [
    {
     "name": "stdout",
     "output_type": "stream",
     "text": [
      "9\n"
     ]
    }
   ],
   "source": [
    "#example for 9th question\n",
    "a=8\n",
    "def num():\n",
    "    global a\n",
    "    a=a+1\n",
    "    print(a)\n",
    "num()"
   ]
  },
  {
   "cell_type": "raw",
   "id": "d9a2d5ee",
   "metadata": {},
   "source": [
    "10. What is the data type of None?\n",
    "Ans.datatype of None is \"NoneType\"."
   ]
  },
  {
   "cell_type": "code",
   "execution_count": 17,
   "id": "8a6b310f",
   "metadata": {},
   "outputs": [
    {
     "data": {
      "text/plain": [
       "NoneType"
      ]
     },
     "execution_count": 17,
     "metadata": {},
     "output_type": "execute_result"
    }
   ],
   "source": [
    "#example for 10th question\n",
    "type(None)"
   ]
  },
  {
   "cell_type": "raw",
   "id": "8854ba62",
   "metadata": {},
   "source": [
    "11. What does the sentence import areallyourpetsnamederic do?\n",
    "Ans.It will import package named \"areallyourpetsnamederic\" if present in the current working directory."
   ]
  },
  {
   "cell_type": "raw",
   "id": "48c2b1cb",
   "metadata": {},
   "source": [
    "12. If you had a bacon() feature in a spam module, what would you call it after importing spam?\n",
    "Ans.It would be called as \"spam.bacon()\"."
   ]
  },
  {
   "cell_type": "raw",
   "id": "c5c6e62d",
   "metadata": {},
   "source": [
    "13. What can you do to save a programme from crashing if it encounters an error?\n",
    "Ans.You can use error handling concepts like try and except.Put the block which generates error in try block and then catch          the error as exception in except block."
   ]
  },
  {
   "cell_type": "raw",
   "id": "03a6fc1f",
   "metadata": {},
   "source": [
    "14. What is the purpose of the try clause? What is the purpose of the except clause?\n",
    "Ans.The try block lets you test a block of code for errors. The except block lets you handle the error."
   ]
  }
 ],
 "metadata": {
  "kernelspec": {
   "display_name": "Python 3 (ipykernel)",
   "language": "python",
   "name": "python3"
  },
  "language_info": {
   "codemirror_mode": {
    "name": "ipython",
    "version": 3
   },
   "file_extension": ".py",
   "mimetype": "text/x-python",
   "name": "python",
   "nbconvert_exporter": "python",
   "pygments_lexer": "ipython3",
   "version": "3.9.13"
  }
 },
 "nbformat": 4,
 "nbformat_minor": 5
}
