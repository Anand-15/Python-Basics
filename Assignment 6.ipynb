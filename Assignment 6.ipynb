{
 "cells": [
  {
   "cell_type": "raw",
   "id": "7204c863",
   "metadata": {},
   "source": [
    "1. What are escape characters, and how do you use them?\n",
    "Ans.Escape characters are used to insert characters that are illegal in a string, use an escape character.\n",
    "    An escape character is a backslash \\ followed by the character you want to insert."
   ]
  },
  {
   "cell_type": "code",
   "execution_count": 3,
   "id": "a305266f",
   "metadata": {},
   "outputs": [
    {
     "name": "stdout",
     "output_type": "stream",
     "text": [
      "Hello,How \"are\" you?\n"
     ]
    }
   ],
   "source": [
    "print(\"Hello,How \\\"are\\\" you?\")"
   ]
  },
  {
   "cell_type": "raw",
   "id": "9c77a3cd",
   "metadata": {},
   "source": [
    "2. What do the escape characters n and t stand for?\n",
    "Ans.n stands for newline whereas t stands for tab "
   ]
  },
  {
   "cell_type": "raw",
   "id": "77b8532f",
   "metadata": {},
   "source": [
    "3. What is the way to include backslash characters in a string?\n",
    "Ans. You can use '\\' to include backlash in a string."
   ]
  },
  {
   "cell_type": "code",
   "execution_count": 5,
   "id": "984d901f",
   "metadata": {},
   "outputs": [
    {
     "name": "stdout",
     "output_type": "stream",
     "text": [
      "Using backslash \\\n"
     ]
    }
   ],
   "source": [
    "print(\"Using backslash \\\\\")"
   ]
  },
  {
   "cell_type": "raw",
   "id": "dd32fdb4",
   "metadata": {},
   "source": [
    "4. The string \"Howl's Moving Castle\" is a correct value. Why isn't the single quote character in the word Howl's not escaped a problem?\n",
    "Ans.Because outside double quotation was used so you can alternatively use single quote inside the string."
   ]
  },
  {
   "cell_type": "raw",
   "id": "936a1908",
   "metadata": {},
   "source": [
    "5. How do you write a string of newlines if you don't want to use the n character?\n",
    "Ans.You can use print as it has a parameter called 'end' which is by default set to '\\n'."
   ]
  },
  {
   "cell_type": "raw",
   "id": "566b8740",
   "metadata": {},
   "source": [
    "6. What are the values of the given expressions?\n",
    "'Hello, world!'[1]\n",
    "'Hello, world!'[0:5]\n",
    "'Hello, world!'[:5]\n",
    "'Hello, world!'[3:]\n",
    "Ans. Solution will be given in below cell."
   ]
  },
  {
   "cell_type": "code",
   "execution_count": 8,
   "id": "d6e2d451",
   "metadata": {},
   "outputs": [
    {
     "name": "stdout",
     "output_type": "stream",
     "text": [
      "e\n",
      "Hello\n",
      "Hello\n",
      "lo, world!\n"
     ]
    }
   ],
   "source": [
    "print('Hello, world!'[1])\n",
    "print('Hello, world!'[0:5])\n",
    "print('Hello, world!'[:5])\n",
    "print('Hello, world!'[3:])"
   ]
  },
  {
   "cell_type": "raw",
   "id": "8e337d88",
   "metadata": {},
   "source": [
    "7. What are the values of the following expressions?\n",
    "'Hello'.upper()\n",
    "'Hello'.upper().isupper()\n",
    "'Hello'.upper().lower()\n",
    "Ans. Solution will be given in below cell."
   ]
  },
  {
   "cell_type": "code",
   "execution_count": 10,
   "id": "e9e837ea",
   "metadata": {},
   "outputs": [
    {
     "name": "stdout",
     "output_type": "stream",
     "text": [
      "HELLO\n",
      "True\n",
      "hello\n"
     ]
    }
   ],
   "source": [
    "print('Hello'.upper())\n",
    "print('Hello'.upper().isupper())\n",
    "print('Hello'.upper().lower())"
   ]
  },
  {
   "cell_type": "raw",
   "id": "ee4985ba",
   "metadata": {},
   "source": [
    "8. What are the values of the following expressions?\n",
    "1.'Remember, remember, the fifth of July.'.split()\n",
    "2.'-'.join('There can only one.'.split())\n",
    "Ans. 1.It will return a list with separated strings.\n",
    "     2.It will return a string joined by'-'."
   ]
  },
  {
   "cell_type": "code",
   "execution_count": 11,
   "id": "66112787",
   "metadata": {},
   "outputs": [
    {
     "data": {
      "text/plain": [
       "['Remember,', 'remember,', 'the', 'fifth', 'of', 'July.']"
      ]
     },
     "execution_count": 11,
     "metadata": {},
     "output_type": "execute_result"
    }
   ],
   "source": [
    "'Remember, remember, the fifth of July.'.split()"
   ]
  },
  {
   "cell_type": "code",
   "execution_count": 12,
   "id": "324f3d47",
   "metadata": {},
   "outputs": [
    {
     "data": {
      "text/plain": [
       "'There-can-only-one.'"
      ]
     },
     "execution_count": 12,
     "metadata": {},
     "output_type": "execute_result"
    }
   ],
   "source": [
    "'-'.join('There can only one.'.split())"
   ]
  },
  {
   "cell_type": "raw",
   "id": "2151be65",
   "metadata": {},
   "source": [
    "9. What are the methods for right-justifying, left-justifying, and centering a string?\n",
    "Ans.rjust(),ljust(),center() respectively."
   ]
  },
  {
   "cell_type": "raw",
   "id": "655232c3",
   "metadata": {},
   "source": [
    "10. What is the best way to remove whitespace characters from the start or end?\n",
    "Ans.strip() can be used for removing whitespace characters from the start or end ."
   ]
  },
  {
   "cell_type": "code",
   "execution_count": 16,
   "id": "4fb5e06f",
   "metadata": {},
   "outputs": [
    {
     "name": "stdout",
     "output_type": "stream",
     "text": [
      "           This contains lots of spaces at start and end                                       \n",
      "This contains lots of spaces at start and end\n"
     ]
    }
   ],
   "source": [
    "name=\"           This contains lots of spaces at start and end                                       \"\n",
    "print(name)\n",
    "stripped_name=name.strip()\n",
    "print(stripped_name)"
   ]
  },
  {
   "cell_type": "code",
   "execution_count": null,
   "id": "6e132d7d",
   "metadata": {},
   "outputs": [],
   "source": []
  }
 ],
 "metadata": {
  "kernelspec": {
   "display_name": "Python 3 (ipykernel)",
   "language": "python",
   "name": "python3"
  },
  "language_info": {
   "codemirror_mode": {
    "name": "ipython",
    "version": 3
   },
   "file_extension": ".py",
   "mimetype": "text/x-python",
   "name": "python",
   "nbconvert_exporter": "python",
   "pygments_lexer": "ipython3",
   "version": "3.9.13"
  }
 },
 "nbformat": 4,
 "nbformat_minor": 5
}
