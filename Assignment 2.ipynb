{
 "cells": [
  {
   "cell_type": "raw",
   "id": "74549afd",
   "metadata": {},
   "source": [
    "1.What are the two values of the Boolean data type? How do you write them?\n",
    "Ans.True and False are two values.We write them as \"True\" and \"False\"."
   ]
  },
  {
   "cell_type": "raw",
   "id": "ba1c56d4",
   "metadata": {},
   "source": [
    "2. What are the three different types of Boolean operators?\n",
    "Ans. They are \"AND\",\"OR\" and \"NOT\""
   ]
  },
  {
   "cell_type": "raw",
   "id": "4066991e",
   "metadata": {},
   "source": [
    "3. Make a list of each Boolean operator's truth tables (i.e. every possible combination of Boolean values for the operator and what it evaluate ).\n",
    "Ans.AND truth table:\n",
    "        A\tB\tQ\n",
    "        0\t0\t0\n",
    "        0\t1\t0\n",
    "        1\t0\t0\n",
    "        1\t1\t1\n",
    "    OR truth table:\n",
    "        A\tB\tQ\n",
    "        0\t0\t0\n",
    "        0\t1\t1\n",
    "        1\t0\t1\n",
    "        1\t1\t1\n",
    "    NOT truth table:\n",
    "        A\tQ\n",
    "        0\t1\n",
    "        1\t0\n",
    "        \n",
    "        "
   ]
  },
  {
   "cell_type": "raw",
   "id": "27e553ff",
   "metadata": {},
   "source": [
    "4. What are the values of the following expressions?\n",
    "(5 > 4) and (3 == 5)\n",
    "not (5 > 4)\n",
    "(5 > 4) or (3 == 5)\n",
    "not ((5 > 4) or (3 == 5))\n",
    "(True and True) and (True == False)\n",
    "(not False) or (not True)\n",
    "\n",
    "Ans.(5 > 4) and (3 == 5) -> False\n",
    "    not (5 > 4)->False\n",
    "    (5 > 4) or (3 == 5)->True\n",
    "    not ((5 > 4) or (3 == 5))->False\n",
    "    (True and True) and (True == False)->False\n",
    "    (not False) or (not True)->True"
   ]
  },
  {
   "cell_type": "raw",
   "id": "2cfc65cc",
   "metadata": {},
   "source": [
    "5. What are the six comparison operators?\n",
    "Ans.They are as follows:\n",
    "    1. ==\tEqual\tx == y\t\n",
    "    2. !=\tNot equal\tx != y\t\n",
    "    3. >\tGreater than\tx > y\t\n",
    "    4. <\tLess than\tx < y\t\n",
    "    5. >=\tGreater than or equal to\tx >= y\t\n",
    "    6. <=\tLess than or equal to\tx <= y"
   ]
  },
  {
   "cell_type": "raw",
   "id": "119377be",
   "metadata": {},
   "source": [
    "6. How do you tell the difference between the equal to and assignment operators?Describe a condition and when you would use one.\n",
    "Ans.\"=\" is an Assignment Operator it is used to assign the value of variable or expression, while \"==\" is an Equal to Operator      and it is a relation operator used for comparison (to compare value of both left and right side operands).We use                Assignment operator when we want to assign value to variables .For ex : a=2.whereas we use equal to operator for                comparing values For ex : 2==2."
   ]
  },
  {
   "cell_type": "raw",
   "id": "6b01d189",
   "metadata": {},
   "source": [
    "7. Identify the three blocks in this code:\n",
    "spam = 0\n",
    "if spam == 10:\n",
    "print('eggs')\n",
    "if spam > 5:\n",
    "print('bacon')\n",
    "else:\n",
    "print('ham')\n",
    "print('spam')\n",
    "print('spam')\n",
    "Ans.Block1:\n",
    "    if spam == 10:\n",
    "    print('eggs')\n",
    "    Block2:\n",
    "    if spam > 5:\n",
    "    print('bacon')\n",
    "    else:\n",
    "    print('ham')\n",
    "    Block3:\n",
    "    print('spam')\n",
    "    print('spam')\n",
    "    \n",
    "    \n",
    "    "
   ]
  },
  {
   "cell_type": "raw",
   "id": "a0f9b9ba",
   "metadata": {},
   "source": [
    "8. Write code that prints Hello if 1 is stored in spam, prints Howdy if 2 is stored in spam, and prints Greetings! if anything else is stored in spam.\n",
    "Ans.Code is given on the below cell."
   ]
  },
  {
   "cell_type": "code",
   "execution_count": 1,
   "id": "69947a82",
   "metadata": {},
   "outputs": [
    {
     "name": "stdout",
     "output_type": "stream",
     "text": [
      "Please enter spam value :  2\n",
      "Howdy\n"
     ]
    }
   ],
   "source": [
    "spam=input(\"Please enter spam value :  \")\n",
    "if spam==\"1\":\n",
    "    print(\"Hello\")\n",
    "elif spam==\"2\":\n",
    "    print(\"Howdy\")\n",
    "else:\n",
    "    print(\"Greetings!\")"
   ]
  },
  {
   "cell_type": "raw",
   "id": "48e46c40",
   "metadata": {},
   "source": [
    "9.If your programme is stuck in an endless loop, what keys you’ll press?\n",
    "Ans.\"Ctrl\"+\"C\""
   ]
  },
  {
   "cell_type": "raw",
   "id": "feeb5b65",
   "metadata": {},
   "source": [
    "10. How can you tell the difference between break and continue?\n",
    "Ans.\"break\" statement brings the user out of the loop whereas \"continue\" sends the user to the next iteration."
   ]
  },
  {
   "cell_type": "raw",
   "id": "568f5cd2",
   "metadata": {},
   "source": [
    "11. In a for loop, what is the difference between range(10), range(0, 10), and range(0, 10, 1)?\n",
    "Ans. range(10)-->by default the starting range will be take as 0.\n",
    "     range(0,10)-->starting range and ending range are defined.\n",
    "     range(0,10,1)--> starting range, ending range,and step function is added ."
   ]
  },
  {
   "cell_type": "raw",
   "id": "95a3c6b2",
   "metadata": {},
   "source": [
    "12. Write a short program that prints the numbers 1 to 10 using a for loop. Then write an equivalent program that prints the numbers 1 to 10 using a while loop.\n",
    "Ans.Code is given in below cells."
   ]
  },
  {
   "cell_type": "code",
   "execution_count": 7,
   "id": "972db2b0",
   "metadata": {},
   "outputs": [
    {
     "name": "stdout",
     "output_type": "stream",
     "text": [
      "1\n",
      "2\n",
      "3\n",
      "4\n",
      "5\n",
      "6\n",
      "7\n",
      "8\n",
      "9\n",
      "10\n"
     ]
    }
   ],
   "source": [
    "for i in range(1,11):\n",
    "    print(i)"
   ]
  },
  {
   "cell_type": "code",
   "execution_count": 8,
   "id": "47dcb5d7",
   "metadata": {},
   "outputs": [
    {
     "name": "stdout",
     "output_type": "stream",
     "text": [
      "1\n",
      "2\n",
      "3\n",
      "4\n",
      "5\n",
      "6\n",
      "7\n",
      "8\n",
      "9\n",
      "10\n"
     ]
    }
   ],
   "source": [
    "a=1\n",
    "while a < 11:\n",
    "    print(a)\n",
    "    a+=1"
   ]
  },
  {
   "cell_type": "raw",
   "id": "cc38de76",
   "metadata": {},
   "source": [
    "13. If you had a function named bacon() inside a module named spam, how would you call it after importing spam?\n",
    "Ans.We can call it by typing \"spam.bacon()\"."
   ]
  },
  {
   "cell_type": "code",
   "execution_count": null,
   "id": "edd6be6e",
   "metadata": {},
   "outputs": [],
   "source": []
  }
 ],
 "metadata": {
  "kernelspec": {
   "display_name": "Python 3 (ipykernel)",
   "language": "python",
   "name": "python3"
  },
  "language_info": {
   "codemirror_mode": {
    "name": "ipython",
    "version": 3
   },
   "file_extension": ".py",
   "mimetype": "text/x-python",
   "name": "python",
   "nbconvert_exporter": "python",
   "pygments_lexer": "ipython3",
   "version": "3.9.13"
  }
 },
 "nbformat": 4,
 "nbformat_minor": 5
}
