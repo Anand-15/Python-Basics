{
 "cells": [
  {
   "cell_type": "raw",
   "id": "399ac7cb",
   "metadata": {},
   "source": [
    "1. What does an empty dictionary's code look like?\n",
    "Ans.Solution given in below cell"
   ]
  },
  {
   "cell_type": "code",
   "execution_count": 1,
   "id": "a77593b4",
   "metadata": {},
   "outputs": [],
   "source": [
    "dict_new={}"
   ]
  },
  {
   "cell_type": "raw",
   "id": "d4551548",
   "metadata": {},
   "source": [
    "2. What is the value of a dictionary value with the key 'foo' and the value 42?\n",
    "Ans.The value will be 42."
   ]
  },
  {
   "cell_type": "raw",
   "id": "a332dec5",
   "metadata": {},
   "source": [
    "3. What is the most significant distinction between a dictionary and a list?\n",
    "Ans.The list is an ordered collection of data, whereas the dictionaries store \n",
    "    the data in the form of key-value pairs using the hashtable structure."
   ]
  },
  {
   "cell_type": "raw",
   "id": "b2a2faa6",
   "metadata": {},
   "source": [
    "4. What happens if you try to access spam['foo'] if spam is {'bar': 100}?\n",
    "Ans.It will throw a key error."
   ]
  },
  {
   "cell_type": "code",
   "execution_count": 4,
   "id": "ad1064e5",
   "metadata": {},
   "outputs": [
    {
     "ename": "KeyError",
     "evalue": "'foo'",
     "output_type": "error",
     "traceback": [
      "\u001b[1;31m---------------------------------------------------------------------------\u001b[0m",
      "\u001b[1;31mKeyError\u001b[0m                                  Traceback (most recent call last)",
      "\u001b[1;32m~\\AppData\\Local\\Temp\\ipykernel_37852\\326573644.py\u001b[0m in \u001b[0;36m<module>\u001b[1;34m\u001b[0m\n\u001b[0;32m      1\u001b[0m \u001b[0mspam\u001b[0m\u001b[1;33m=\u001b[0m\u001b[1;33m{\u001b[0m\u001b[1;34m'bar'\u001b[0m\u001b[1;33m:\u001b[0m\u001b[1;36m100\u001b[0m\u001b[1;33m}\u001b[0m\u001b[1;33m\u001b[0m\u001b[1;33m\u001b[0m\u001b[0m\n\u001b[1;32m----> 2\u001b[1;33m \u001b[0mprint\u001b[0m\u001b[1;33m(\u001b[0m\u001b[0mspam\u001b[0m\u001b[1;33m[\u001b[0m\u001b[1;34m'foo'\u001b[0m\u001b[1;33m]\u001b[0m\u001b[1;33m)\u001b[0m\u001b[1;33m\u001b[0m\u001b[1;33m\u001b[0m\u001b[0m\n\u001b[0m",
      "\u001b[1;31mKeyError\u001b[0m: 'foo'"
     ]
    }
   ],
   "source": [
    "spam={'bar':100}\n",
    "print(spam['foo'])"
   ]
  },
  {
   "cell_type": "raw",
   "id": "e745f56b",
   "metadata": {},
   "source": [
    "5. If a dictionary is stored in spam, what is the difference between the expressions 'cat' in spam and 'cat' in spam.keys()?\n",
    "Ans.There is no difference. The in operator checks whether a value exists as a key in the dictionary. 'cat' in spam checks         whether there is a 'cat' key in the dictionary, while 'cat' in spam.keys() also checks whether there is a'cat' key in spam. ."
   ]
  },
  {
   "cell_type": "code",
   "execution_count": 9,
   "id": "fd733e55",
   "metadata": {},
   "outputs": [
    {
     "name": "stdout",
     "output_type": "stream",
     "text": [
      "\"cat\" is in keys of dictionary\n",
      "\"cat\" is in keys of dictionary\n"
     ]
    }
   ],
   "source": [
    "spam={'cat':'meow'}\n",
    "if 'cat' in spam:\n",
    "    print('\"cat\" is in keys of dictionary')\n",
    "if 'cat' in spam.keys():\n",
    "    print('\"cat\" is in keys of dictionary')"
   ]
  },
  {
   "cell_type": "raw",
   "id": "7c814896",
   "metadata": {},
   "source": [
    "6. If a dictionary is stored in spam, what is the difference between the expressions 'cat' in spam and 'cat' in spam.values()?\n",
    "Ans.There is a difference. The in operator checks whether a value exists as a key in the dictionary. 'cat' in spam checks       \n",
    "    whether there is a 'cat' key in the dictionary, while 'cat' in spam. values() checks whether there is a value 'cat' for one     of the keys in spam ."
   ]
  },
  {
   "cell_type": "raw",
   "id": "a6f313ea",
   "metadata": {},
   "source": [
    "7. What is a shortcut for the following code?\n",
    "if 'color' not in spam:\n",
    "spam['color'] = 'black'\n",
    "Ans.spam.setdefault('color', 'black')"
   ]
  },
  {
   "cell_type": "raw",
   "id": "7dd97b2f",
   "metadata": {},
   "source": [
    "8. How do you \"pretty print\" dictionary values using which module and function?\n",
    "Ans.We can do it using pprint module and pprint function."
   ]
  },
  {
   "cell_type": "code",
   "execution_count": 12,
   "id": "5d00fcac",
   "metadata": {},
   "outputs": [
    {
     "name": "stdout",
     "output_type": "stream",
     "text": [
      "{'age': 22,\n",
      " 'books': ['Harry Potter', 'Lord of the Rings'],\n",
      " 'gender': 'male',\n",
      " 'name': 'Anand'}\n"
     ]
    }
   ],
   "source": [
    "import pprint\n",
    "sample_dict = {'name': 'Anand', 'age': 22, 'gender': 'male', 'books': ['Harry Potter', 'Lord of the Rings']}\n",
    "pprint.pprint(sample_dict)"
   ]
  },
  {
   "cell_type": "code",
   "execution_count": null,
   "id": "680e176d",
   "metadata": {},
   "outputs": [],
   "source": []
  }
 ],
 "metadata": {
  "kernelspec": {
   "display_name": "Python 3 (ipykernel)",
   "language": "python",
   "name": "python3"
  },
  "language_info": {
   "codemirror_mode": {
    "name": "ipython",
    "version": 3
   },
   "file_extension": ".py",
   "mimetype": "text/x-python",
   "name": "python",
   "nbconvert_exporter": "python",
   "pygments_lexer": "ipython3",
   "version": "3.9.13"
  }
 },
 "nbformat": 4,
 "nbformat_minor": 5
}
